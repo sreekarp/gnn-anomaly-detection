{
 "cells": [
  {
   "cell_type": "code",
   "execution_count": 1,
   "id": "8dbedd32",
   "metadata": {},
   "outputs": [],
   "source": [
    "import torch\n",
    "import torch.nn as nn\n",
    "import torch.nn.functional as F\n",
    "import torch.optim as optim\n",
    "from torch_geometric.nn import GATConv, GAE\n",
    "from torch_geometric.datasets import EllipticBitcoinDataset\n",
    "from sklearn.preprocessing import StandardScaler\n",
    "from sklearn.model_selection import train_test_split\n",
    "from sklearn.metrics import roc_auc_score\n",
    "import numpy as np\n",
    "import os"
   ]
  },
  {
   "cell_type": "code",
   "execution_count": 2,
   "id": "0944b37d",
   "metadata": {},
   "outputs": [],
   "source": [
    "# --- 1. Model Definition ---\n",
    "class GATEncoder(nn.Module):\n",
    "    def __init__(self, in_channels, hidden_channels, out_channels, heads=2):\n",
    "        super(GATEncoder, self).__init__()\n",
    "        self.conv1 = GATConv(in_channels, hidden_channels, heads=heads, dropout=0.6)\n",
    "        self.conv2 = GATConv(hidden_channels * heads, out_channels, heads=1, concat=False, dropout=0.6)\n",
    "\n",
    "    def forward(self, x, edge_index):\n",
    "        x = F.dropout(x, p=0.6, training=self.training)\n",
    "        x = F.elu(self.conv1(x, edge_index))\n",
    "        x = F.dropout(x, p=0.6, training=self.training)\n",
    "        x = self.conv2(x, edge_index)\n",
    "        return x\n"
   ]
  },
  {
   "cell_type": "code",
   "execution_count": 3,
   "id": "44b9e192",
   "metadata": {},
   "outputs": [
    {
     "name": "stdout",
     "output_type": "stream",
     "text": [
      "Using device: cuda\n",
      " Data loaded and preprocessed.\n"
     ]
    }
   ],
   "source": [
    "# --- 2. Setup and Data Loading ---\n",
    "device = torch.device('cuda' if torch.cuda.is_available() else 'cpu')\n",
    "print(f\"Using device: {device}\")\n",
    "\n",
    "dataset = EllipticBitcoinDataset(root='./data/EllipticBitcoinDataset')\n",
    "data = dataset[0]\n",
    "\n",
    "scaler = StandardScaler()\n",
    "data.x = torch.tensor(scaler.fit_transform(data.x.numpy()), dtype=torch.float)\n",
    "data = data.to(device)\n",
    "print(\" Data loaded and preprocessed.\")"
   ]
  },
  {
   "cell_type": "code",
   "execution_count": 4,
   "id": "c28cb638",
   "metadata": {},
   "outputs": [
    {
     "name": "stdout",
     "output_type": "stream",
     "text": [
      "\n",
      "Starting model training...\n",
      "Epoch: 010, Loss: 4.028218\n",
      "Epoch: 020, Loss: 3.614039\n",
      "Epoch: 030, Loss: 3.422673\n",
      "Epoch: 040, Loss: 3.239518\n",
      "Epoch: 050, Loss: 3.081700\n",
      "Epoch: 060, Loss: 2.989184\n",
      "Epoch: 070, Loss: 2.859253\n",
      "Epoch: 080, Loss: 2.814774\n",
      "Epoch: 090, Loss: 2.697854\n",
      "Epoch: 100, Loss: 2.612369\n",
      "Epoch: 110, Loss: 2.730160\n",
      "Epoch: 120, Loss: 2.566452\n",
      "Epoch: 130, Loss: 2.488277\n",
      "Epoch: 140, Loss: 2.509755\n",
      "Epoch: 150, Loss: 2.458672\n",
      "Epoch: 160, Loss: 2.431934\n",
      "Epoch: 170, Loss: 2.416906\n",
      "Epoch: 180, Loss: 2.427584\n",
      "Epoch: 190, Loss: 2.534676\n",
      "Epoch: 200, Loss: 2.479256\n",
      " Training complete.\n"
     ]
    }
   ],
   "source": [
    "# --- 3. Training ---\n",
    "in_channels = data.num_node_features\n",
    "hidden_channels = 128\n",
    "out_channels = 64\n",
    "\n",
    "encoder = GATEncoder(in_channels, hidden_channels, out_channels)\n",
    "model = GAE(encoder).to(device)\n",
    "optimizer = optim.Adam(model.parameters(), lr=0.005)\n",
    "\n",
    "print(\"\\nStarting model training...\")\n",
    "for epoch in range(1, 201):\n",
    "    model.train()\n",
    "    optimizer.zero_grad()\n",
    "    z = model.encode(data.x, data.edge_index)\n",
    "    loss = model.recon_loss(z, data.edge_index)\n",
    "    loss.backward()\n",
    "    optimizer.step()\n",
    "    if epoch % 10 == 0:\n",
    "        print(f'Epoch: {epoch:03d}, Loss: {loss:.6f}')\n",
    "print(\" Training complete.\")"
   ]
  },
  {
   "cell_type": "code",
   "execution_count": null,
   "id": "1540b384",
   "metadata": {},
   "outputs": [
    {
     "name": "stdout",
     "output_type": "stream",
     "text": [
      "Unsupervised GAE (Latent Norm) AUC-ROC Score: 0.3487\n"
     ]
    }
   ],
   "source": [
    "# --- 4. Evaluation ---\n",
    "model.eval()\n",
    "with torch.no_grad():\n",
    "    z = model.encode(data.x, data.edge_index)\n",
    "    anomaly_scores_tensor = torch.sqrt(torch.sum(z*z, dim=1))\n",
    "\n",
    "# Prepare test data\n",
    "test_mask = data.test_mask\n",
    "test_indices = torch.where(test_mask)[0]\n",
    "gnn_anomaly_scores = anomaly_scores_tensor[test_indices].cpu().numpy()\n",
    "true_labels = data.y[test_indices].cpu().numpy()\n",
    "\n",
    "if len(np.unique(true_labels)) < 2:\n",
    "    print(\" Error: The test set contains only one class.\")\n",
    "else:\n",
    "    gnn_auc_score = roc_auc_score(true_labels, gnn_anomaly_scores)\n",
    "    print(\"\\n--- GNN Model Performance (Method 1) ---\")\n",
    "    print(f\"Unsupervised GAE (Latent Norm) AUC-ROC Score: {gnn_auc_score:.4f}\")"
   ]
  },
  {
   "cell_type": "code",
   "execution_count": null,
   "id": "3314eb5c",
   "metadata": {},
   "outputs": [],
   "source": []
  }
 ],
 "metadata": {
  "kernelspec": {
   "display_name": "gnn-env",
   "language": "python",
   "name": "python3"
  },
  "language_info": {
   "codemirror_mode": {
    "name": "ipython",
    "version": 3
   },
   "file_extension": ".py",
   "mimetype": "text/x-python",
   "name": "python",
   "nbconvert_exporter": "python",
   "pygments_lexer": "ipython3",
   "version": "3.9.23"
  }
 },
 "nbformat": 4,
 "nbformat_minor": 5
}

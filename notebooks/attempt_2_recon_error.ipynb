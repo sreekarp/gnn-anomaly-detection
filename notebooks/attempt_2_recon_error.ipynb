{
 "cells": [
  {
   "cell_type": "code",
   "execution_count": 1,
   "id": "71c0cbc0",
   "metadata": {},
   "outputs": [],
   "source": [
    "import torch\n",
    "import torch.nn as nn\n",
    "import torch.nn.functional as F\n",
    "import torch.optim as optim\n",
    "from torch_geometric.nn import GATConv, GAE\n",
    "from torch_geometric.datasets import EllipticBitcoinDataset\n",
    "from sklearn.preprocessing import StandardScaler\n",
    "from sklearn.model_selection import train_test_split\n",
    "from sklearn.metrics import roc_auc_score\n",
    "import numpy as np\n",
    "import os"
   ]
  },
  {
   "cell_type": "code",
   "execution_count": 2,
   "id": "4b5b91de",
   "metadata": {},
   "outputs": [],
   "source": [
    "# --- 1. Model Definition ---\n",
    "class GATEncoder(nn.Module):\n",
    "    def __init__(self, in_channels, hidden_channels, out_channels, heads=2):\n",
    "        super(GATEncoder, self).__init__()\n",
    "        self.conv1 = GATConv(in_channels, hidden_channels, heads=heads, dropout=0.6)\n",
    "        self.conv2 = GATConv(hidden_channels * heads, out_channels, heads=1, concat=False, dropout=0.6)\n",
    "\n",
    "    def forward(self, x, edge_index):\n",
    "        x = F.dropout(x, p=0.6, training=self.training)\n",
    "        x = F.elu(self.conv1(x, edge_index))\n",
    "        x = F.dropout(x, p=0.6, training=self.training)\n",
    "        x = self.conv2(x, edge_index)\n",
    "        return x\n",
    "\n",
    "class AttributeDecoder(nn.Module):\n",
    "    def __init__(self, in_channels, hidden_channels, out_channels):\n",
    "        super(AttributeDecoder, self).__init__()\n",
    "        self.lin1 = nn.Linear(in_channels, hidden_channels)\n",
    "        self.lin2 = nn.Linear(hidden_channels, out_channels)\n",
    "\n",
    "    def forward(self, z):\n",
    "        z = F.relu(self.lin1(z))\n",
    "        z = self.lin2(z)\n",
    "        return z\n",
    "\n",
    "class DominantLikeGAE(GAE):\n",
    "    def __init__(self, encoder, attr_decoder):\n",
    "        super(DominantLikeGAE, self).__init__(encoder)\n",
    "        self.attr_decoder = attr_decoder\n",
    "\n",
    "    def decode_attr(self, z):\n",
    "        return self.attr_decoder(z)\n",
    "\n",
    "    def loss(self, x, z, edge_index, alpha=0.5):\n",
    "        structural_loss = self.recon_loss(z, edge_index)\n",
    "        x_reconstructed = self.decode_attr(z)\n",
    "        attribute_loss = F.mse_loss(x_reconstructed, x)\n",
    "        return (1 - alpha) * structural_loss + alpha * attribute_loss\n"
   ]
  },
  {
   "cell_type": "code",
   "execution_count": 3,
   "id": "93062cb8",
   "metadata": {},
   "outputs": [
    {
     "name": "stdout",
     "output_type": "stream",
     "text": [
      "Using device: cuda\n",
      " Data loaded and preprocessed.\n"
     ]
    }
   ],
   "source": [
    "# --- 2. Setup and Data Loading ---\n",
    "device = torch.device('cuda' if torch.cuda.is_available() else 'cpu')\n",
    "print(f\"Using device: {device}\")\n",
    "\n",
    "dataset = EllipticBitcoinDataset(root='./data/EllipticBitcoinDataset')\n",
    "data = dataset[0]\n",
    "\n",
    "scaler = StandardScaler()\n",
    "data.x = torch.tensor(scaler.fit_transform(data.x.numpy()), dtype=torch.float)\n",
    "data = data.to(device)\n",
    "print(\" Data loaded and preprocessed.\")"
   ]
  },
  {
   "cell_type": "code",
   "execution_count": 4,
   "id": "1e89b711",
   "metadata": {},
   "outputs": [
    {
     "name": "stdout",
     "output_type": "stream",
     "text": [
      "\n",
      "Starting model training...\n",
      "Epoch: 010, Loss: 1.688812\n",
      "Epoch: 020, Loss: 1.562316\n",
      "Epoch: 030, Loss: 1.512500\n",
      "Epoch: 040, Loss: 1.450567\n",
      "Epoch: 050, Loss: 1.418036\n",
      "Epoch: 060, Loss: 1.381947\n",
      "Epoch: 070, Loss: 1.378312\n",
      "Epoch: 080, Loss: 1.346175\n",
      "Epoch: 090, Loss: 1.352465\n",
      "Epoch: 100, Loss: 1.319534\n",
      "Epoch: 110, Loss: 1.314151\n",
      "Epoch: 120, Loss: 1.309869\n",
      "Epoch: 130, Loss: 1.313607\n",
      "Epoch: 140, Loss: 1.295784\n",
      "Epoch: 150, Loss: 1.294023\n",
      "Epoch: 160, Loss: 1.294960\n",
      "Epoch: 170, Loss: 1.279748\n",
      "Epoch: 180, Loss: 1.283969\n",
      "Epoch: 190, Loss: 1.280753\n",
      "Epoch: 200, Loss: 1.309469\n",
      " Training complete.\n"
     ]
    }
   ],
   "source": [
    "# --- 3. Training ---\n",
    "in_channels = data.num_node_features\n",
    "hidden_channels_encoder = 128\n",
    "out_channels_encoder = 64\n",
    "hidden_channels_decoder = 128\n",
    "\n",
    "encoder = GATEncoder(in_channels, hidden_channels_encoder, out_channels_encoder)\n",
    "attr_decoder = AttributeDecoder(out_channels_encoder, hidden_channels_decoder, in_channels)\n",
    "model = DominantLikeGAE(encoder, attr_decoder).to(device)\n",
    "optimizer = optim.Adam(model.parameters(), lr=0.005)\n",
    "\n",
    "print(\"\\nStarting model training...\")\n",
    "for epoch in range(1, 201):\n",
    "    model.train()\n",
    "    optimizer.zero_grad()\n",
    "    z = model.encode(data.x, data.edge_index)\n",
    "    loss = model.loss(data.x, z, data.edge_index, alpha=0.8)\n",
    "    loss.backward()\n",
    "    optimizer.step()\n",
    "    if epoch % 10 == 0:\n",
    "        print(f'Epoch: {epoch:03d}, Loss: {loss:.6f}')\n",
    "print(\" Training complete.\")"
   ]
  },
  {
   "cell_type": "code",
   "execution_count": 6,
   "id": "02524aa3",
   "metadata": {},
   "outputs": [
    {
     "name": "stdout",
     "output_type": "stream",
     "text": [
      "Unsupervised GAE (Recon Error) AUC-ROC Score: 0.1935\n"
     ]
    }
   ],
   "source": [
    "# --- 4. Evaluation ---\n",
    "model.eval()\n",
    "with torch.no_grad():\n",
    "    z = model.encode(data.x, data.edge_index)\n",
    "    x_reconstructed = model.decode_attr(z)\n",
    "    \n",
    "    anomaly_scores_tensor = torch.sum((data.x - x_reconstructed)**2, dim=1)\n",
    "\n",
    "# Prepare test data\n",
    "test_mask = data.test_mask\n",
    "test_indices = torch.where(test_mask)[0]\n",
    "gnn_anomaly_scores = anomaly_scores_tensor[test_indices].cpu().numpy()\n",
    "true_labels = data.y[test_indices].cpu().numpy()\n",
    "\n",
    "if len(np.unique(true_labels)) < 2:\n",
    "    print(\" Error: The test set contains only one class.\")\n",
    "else:\n",
    "    gnn_auc_score = roc_auc_score(true_labels, gnn_anomaly_scores)\n",
    "    print(f\"Unsupervised GAE (Recon Error) AUC-ROC Score: {gnn_auc_score:.4f}\")"
   ]
  },
  {
   "cell_type": "code",
   "execution_count": null,
   "id": "2330f442",
   "metadata": {},
   "outputs": [],
   "source": []
  }
 ],
 "metadata": {
  "kernelspec": {
   "display_name": "gnn-env",
   "language": "python",
   "name": "python3"
  },
  "language_info": {
   "codemirror_mode": {
    "name": "ipython",
    "version": 3
   },
   "file_extension": ".py",
   "mimetype": "text/x-python",
   "name": "python",
   "nbconvert_exporter": "python",
   "pygments_lexer": "ipython3",
   "version": "3.9.23"
  }
 },
 "nbformat": 4,
 "nbformat_minor": 5
}

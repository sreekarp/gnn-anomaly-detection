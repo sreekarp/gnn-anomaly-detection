{
 "cells": [
  {
   "cell_type": "code",
   "execution_count": 1,
   "id": "5b24ec91",
   "metadata": {},
   "outputs": [],
   "source": [
    "import pandas as pd\n",
    "import numpy as np\n",
    "import torch\n",
    "from torch_geometric.datasets import EllipticBitcoinDataset\n",
    "from sklearn.preprocessing import StandardScaler\n",
    "from sklearn.model_selection import train_test_split\n",
    "from sklearn.ensemble import IsolationForest\n",
    "from sklearn.metrics import roc_auc_score"
   ]
  },
  {
   "cell_type": "code",
   "execution_count": 2,
   "id": "8b074979",
   "metadata": {},
   "outputs": [
    {
     "name": "stderr",
     "output_type": "stream",
     "text": [
      "Downloading https://data.pyg.org/datasets/elliptic/elliptic_txs_features.csv.zip\n",
      "Downloading https://data.pyg.org/datasets/elliptic/elliptic_txs_edgelist.csv.zip\n",
      "Downloading https://data.pyg.org/datasets/elliptic/elliptic_txs_classes.csv.zip\n",
      "Processing...\n"
     ]
    },
    {
     "name": "stdout",
     "output_type": "stream",
     "text": [
      "✅ Dataset loaded successfully!\n"
     ]
    },
    {
     "name": "stderr",
     "output_type": "stream",
     "text": [
      "Done!\n"
     ]
    }
   ],
   "source": [
    "try:\n",
    "    dataset = EllipticBitcoinDataset(root='./data/EllipticBitcoinDataset')\n",
    "    data = dataset[0]\n",
    "    print(\"✅ Dataset loaded successfully!\")\n",
    "except Exception as e:\n",
    "    print(f\"❌ Error loading dataset: {e}\")\n",
    "    print(\"Please check your internet connection or library installation.\")\n",
    "    exit()"
   ]
  },
  {
   "cell_type": "code",
   "execution_count": 3,
   "id": "2772681f",
   "metadata": {},
   "outputs": [
    {
     "name": "stdout",
     "output_type": "stream",
     "text": [
      "\n",
      "--- Graph Statistics ---\n",
      "Graph Data Object: Data(x=[203769, 165], edge_index=[2, 234355], y=[203769], train_mask=[203769], test_mask=[203769])\n",
      "Number of nodes (transactions): 203769\n",
      "Number of edges (flows): 234355\n",
      "Number of node features: 165\n",
      "Number of classes: 2\n"
     ]
    }
   ],
   "source": [
    "# Initial Data Exploration (EDA)\n",
    "print(\"\\n--- Graph Statistics ---\")\n",
    "print(f\"Graph Data Object: {data}\")\n",
    "print(f\"Number of nodes (transactions): {data.num_nodes}\")\n",
    "print(f\"Number of edges (flows): {data.num_edges}\")\n",
    "print(f\"Number of node features: {data.num_node_features}\")\n",
    "print(f\"Number of classes: {dataset.num_classes}\")"
   ]
  },
  {
   "cell_type": "code",
   "execution_count": 4,
   "id": "7d43e1b7",
   "metadata": {},
   "outputs": [
    {
     "name": "stdout",
     "output_type": "stream",
     "text": [
      "\n",
      "--- Node Label Distribution (on Labeled Data) ---\n",
      "Total labeled nodes: 29894\n",
      "Number of illicit (fraudulent) nodes: 3462\n",
      "Number of licit (normal) nodes: 26432\n",
      "Proportion of illicit nodes: 0.1158\n"
     ]
    }
   ],
   "source": [
    "# Explore Node Labels (Classes)\n",
    "# In the Elliptic dataset: y=1 -> illicit, y=0 -> licit\n",
    "# The 'train_mask' identifies nodes with known labels.\n",
    "labeled_nodes_mask = data.train_mask\n",
    "labels = data.y[labeled_nodes_mask]\n",
    "\n",
    "num_labeled_nodes = labels.size(0)\n",
    "num_illicit = (labels == 1).sum().item()\n",
    "num_licit = (labels == 0).sum().item()\n",
    "\n",
    "print(\"\\n--- Node Label Distribution (on Labeled Data) ---\")\n",
    "print(f\"Total labeled nodes: {num_labeled_nodes}\")\n",
    "print(f\"Number of illicit (fraudulent) nodes: {num_illicit}\")\n",
    "print(f\"Number of licit (normal) nodes: {num_licit}\")\n",
    "if num_labeled_nodes > 0:\n",
    "    print(f\"Proportion of illicit nodes: {num_illicit / num_labeled_nodes:.4f}\")"
   ]
  },
  {
   "cell_type": "code",
   "execution_count": 5,
   "id": "3312fa95",
   "metadata": {},
   "outputs": [
    {
     "name": "stdout",
     "output_type": "stream",
     "text": [
      "Training set size: 20925\n",
      "Testing set size: 8969\n"
     ]
    }
   ],
   "source": [
    "# ---  Preprocessing & Baseline Model ---\n",
    "\n",
    "# Extract features and labels for labeled nodes\n",
    "# Note: We use the original, unscaled features for the baseline model here.\n",
    "node_features = data.x.numpy()[labeled_nodes_mask.numpy()]\n",
    "node_labels = data.y.numpy()[labeled_nodes_mask.numpy()]\n",
    "\n",
    "# 2. Split data into training and testing sets\n",
    "# We use stratify to maintain the same class distribution in train and test sets\n",
    "X_train, X_test, y_train, y_test = train_test_split(\n",
    "    node_features, node_labels, test_size=0.3, random_state=42, stratify=node_labels\n",
    ")\n",
    "print(f\"Training set size: {X_train.shape[0]}\")\n",
    "print(f\"Testing set size: {X_test.shape[0]}\")"
   ]
  },
  {
   "cell_type": "code",
   "execution_count": 6,
   "id": "999ac6e0",
   "metadata": {},
   "outputs": [
    {
     "name": "stdout",
     "output_type": "stream",
     "text": [
      " Features scaled successfully.\n"
     ]
    }
   ],
   "source": [
    "# Scale features\n",
    "# It's important to scale features for many ML models\n",
    "scaler = StandardScaler()\n",
    "X_train_scaled = scaler.fit_transform(X_train)\n",
    "X_test_scaled = scaler.transform(X_test)\n",
    "print(\" Features scaled successfully.\")\n"
   ]
  },
  {
   "cell_type": "code",
   "execution_count": 8,
   "id": "00e253d9",
   "metadata": {},
   "outputs": [
    {
     "name": "stdout",
     "output_type": "stream",
     "text": [
      "Training Isolation Forest on normal data...\n",
      " Baseline model trained.\n"
     ]
    }
   ],
   "source": [
    "# Train Isolation Forest baseline model\n",
    "# We only train it on the 'normal' data points from the training set.\n",
    "iso_forest = IsolationForest(n_estimators=100, contamination='auto', random_state=42)\n",
    "print(\"Training Isolation Forest on normal data...\")\n",
    "# Filter the training data to include only licit (0) nodes for training\n",
    "X_train_normal = X_train_scaled[y_train == 0]\n",
    "iso_forest.fit(X_train_normal)\n",
    "print(\" Baseline model trained.\")"
   ]
  },
  {
   "cell_type": "code",
   "execution_count": 9,
   "id": "dd07842c",
   "metadata": {},
   "outputs": [
    {
     "name": "stdout",
     "output_type": "stream",
     "text": [
      "\n",
      "--- Baseline Model Performance ---\n",
      "Isolation Forest AUC-ROC Score: 0.1213\n"
     ]
    }
   ],
   "source": [
    "# Evaluate the baseline model\n",
    "# The model outputs -1 for anomalies and 1 for normal instances.\n",
    "# We need to convert this to an anomaly score.\n",
    "anomaly_scores = iso_forest.decision_function(X_test_scaled)\n",
    "# We invert the scores because roc_auc_score expects higher values for the positive class (anomalies)\n",
    "inverted_scores = -anomaly_scores\n",
    "\n",
    "auc_score = roc_auc_score(y_test, inverted_scores)\n",
    "\n",
    "print(\"\\n--- Baseline Model Performance ---\")\n",
    "print(f\"Isolation Forest AUC-ROC Score: {auc_score:.4f}\")"
   ]
  }
 ],
 "metadata": {
  "kernelspec": {
   "display_name": "gnn-env",
   "language": "python",
   "name": "python3"
  },
  "language_info": {
   "codemirror_mode": {
    "name": "ipython",
    "version": 3
   },
   "file_extension": ".py",
   "mimetype": "text/x-python",
   "name": "python",
   "nbconvert_exporter": "python",
   "pygments_lexer": "ipython3",
   "version": "3.9.23"
  }
 },
 "nbformat": 4,
 "nbformat_minor": 5
}
